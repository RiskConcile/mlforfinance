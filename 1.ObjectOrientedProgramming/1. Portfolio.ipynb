{
 "cells": [
  {
   "cell_type": "markdown",
   "id": "a4c6e0eb-94ba-461f-9cfd-5300e065139d",
   "metadata": {},
   "source": [
    "# Object-oriented programming\n",
    "Python uses a programming pattern called object-oriented programming, which models concepts using classes and objects:\n",
    "- Classes represent concepts\n",
    "- Objects are instances of classes\n",
    "\n",
    "In this notebook, we will implement a Python class for an equity portfolio.\n",
    "\n",
    "## Portfolio object\n",
    "The goal of the portfolio object is to build a tracking tool to monitor financial transactions. It has the following attributes:\n",
    "- Total value of the portfolio\n",
    "- Total cash\n",
    "- Positions"
   ]
  },
  {
   "cell_type": "code",
   "execution_count": 1,
   "id": "10b996df-6126-4927-935a-38761efaa5e1",
   "metadata": {},
   "outputs": [],
   "source": [
    "class Portfolio:\n",
    "    #####\n",
    "    # Dunder methods\n",
    "    #####\n",
    "    def __init__(self, initial_cash, positions):\n",
    "        \"\"\" Used to instantiate the class, in this case, the positions need to be specified\n",
    "        as a dictionary that contains as the keys the names of the companies and as the value\n",
    "        another dictionary containing the share price and the number of shares.\n",
    "        \n",
    "        Example:\n",
    "        initial_cash=100000\n",
    "        positions = {\"Apple\": {\"Share price\": 150.0, \"Number\": 1000},\n",
    "                     \"Verizon\": {\"Share price\": 52.4, \"Number\": 3000}}\n",
    "        \"\"\"\n",
    "        # Attributes\n",
    "        self.positions = positions\n",
    "        self.cash = initial_cash\n",
    "    \n",
    "    \n",
    "    def __str__(self):\n",
    "        return \"A portfolio consisting of {number} positions and a total value of {value:,} USD.\".format(\n",
    "            number=len(self.positions), value=round(self.get_total_value(), 2))\n",
    "    \n",
    "    #####\n",
    "    # Methods\n",
    "    #####\n",
    "    def get_total_value(self):\n",
    "        return sum([position['Share price']*position['Number'] \n",
    "                              for _, position in positions.items()]) + self.cash\n",
    "    \n",
    "    \n",
    "    def update_price(self, company, new_price):\n",
    "        self.positions[company]['Share price'] = new_price\n",
    "        return 'SUCCESS'\n",
    "    \n",
    "    \n",
    "    def make_transaction(self, company, number, price=None):\n",
    "        if company not in self.positions:\n",
    "            assert price is not None, \\\n",
    "                'Company not yet known, please provide share price.'\n",
    "            assert self.cash - price*number >= 0, \"Not enough cash, please increase cash position\"\n",
    "            self.positions[company] = {'Share price': price, \"Number\": number}\n",
    "            self.cash = self.cash - price*number\n",
    "        else:\n",
    "            assert price is None, \\\n",
    "                \"When making a transaction on a company in the portfolio, you should update \" + \\\n",
    "                \"the price using the update_price method first instead of specifying the price here.\"\n",
    "            self.positions[company]['Number'] += number\n",
    "            self.cash -= number*self.positions[company][\"Share price\"]"
   ]
  },
  {
   "cell_type": "markdown",
   "id": "2736a57e-1f59-4db9-9ac2-736735ec5cea",
   "metadata": {},
   "source": [
    "## Using the object\n",
    "Let's construct a portfolio consisting of an initial cash of 1 000 000 USD and the following positions:\n",
    "- **Apple**: 1 000 stocks at x per share\n",
    "- **Verizon**: 2 000 stocks at x per share\n",
    "- **Solvay**: 500 stocks at x per share"
   ]
  },
  {
   "cell_type": "code",
   "execution_count": 2,
   "id": "c1c31d09-ce97-4539-a276-12004f845c71",
   "metadata": {},
   "outputs": [
    {
     "name": "stdout",
     "output_type": "stream",
     "text": [
      "A portfolio consisting of 3 positions and a total value of 1,467,400.0 USD.\n"
     ]
    }
   ],
   "source": [
    "positions = {\"Apple\":   {\"Share price\": 150.0,  \"Number\": 1000},\n",
    "             \"Verizon\": {\"Share price\": 52.4,   \"Number\": 2000},\n",
    "             \"Solvay\":  {\"Share price\": 106.3,  \"Number\": 2000}}\n",
    "initial_cash = 1e6\n",
    "\n",
    "portfolio = Portfolio(initial_cash=initial_cash, positions=positions)\n",
    "print(portfolio)"
   ]
  },
  {
   "cell_type": "markdown",
   "id": "dd24d088-1ea6-4a89-b0c8-00a1e51fd45a",
   "metadata": {},
   "source": [
    "Now, we add a new position to the portfolio using the make transaction operator:"
   ]
  },
  {
   "cell_type": "code",
   "execution_count": 3,
   "id": "d0345c35-a628-4d2e-9b46-f523b452eb37",
   "metadata": {},
   "outputs": [],
   "source": [
    "#portfolio.make_transaction(company='IBM', number=500) # What will happen?\n",
    "#portfolio.make_transaction(company='IBM', number=500000000, price=118.97) # What will happen?\n",
    "portfolio.make_transaction(company='IBM', number=500, price=118.87)"
   ]
  },
  {
   "cell_type": "code",
   "execution_count": 4,
   "id": "5dc5afa5-075b-4364-8a3a-962cb34ebca0",
   "metadata": {},
   "outputs": [
    {
     "name": "stdout",
     "output_type": "stream",
     "text": [
      "A portfolio consisting of 4 positions and a total value of 1,467,400.0 USD.\n",
      "Cash: 940,565.0\n"
     ]
    }
   ],
   "source": [
    "print(portfolio)\n",
    "print(\"Cash: {:,}\".format(round(portfolio.cash, 2)))"
   ]
  },
  {
   "cell_type": "markdown",
   "id": "cdbd035d-a93e-49c4-8378-23b23f1b3bd2",
   "metadata": {},
   "source": [
    "We can also make transactions related to the existing positions in the portfolio by using the same function:"
   ]
  },
  {
   "cell_type": "code",
   "execution_count": 5,
   "id": "9c3f6809-c005-4cab-a494-20b75c165ad7",
   "metadata": {},
   "outputs": [],
   "source": [
    "#portfolio.make_transaction(company=\"Apple\", number=-100)\n",
    "portfolio.update_price(company=\"Apple\", new_price=155)\n",
    "portfolio.make_transaction(company=\"Apple\", number=-100)"
   ]
  },
  {
   "cell_type": "code",
   "execution_count": 7,
   "id": "0f3d4884-ad5e-4e22-b8f9-d45bdac5a28d",
   "metadata": {},
   "outputs": [
    {
     "name": "stdout",
     "output_type": "stream",
     "text": [
      "A portfolio consisting of 4 positions and a total value of 1,472,400.0 USD.\n",
      "Cash: 956,065.0\n"
     ]
    }
   ],
   "source": [
    "print(portfolio) # Value increase thanks to increase in price of Apple share\n",
    "print(\"Cash: {:,}\".format(round(portfolio.cash, 2)))"
   ]
  }
 ],
 "metadata": {
  "kernelspec": {
   "display_name": "Python 3 (ipykernel)",
   "language": "python",
   "name": "python3"
  },
  "language_info": {
   "codemirror_mode": {
    "name": "ipython",
    "version": 3
   },
   "file_extension": ".py",
   "mimetype": "text/x-python",
   "name": "python",
   "nbconvert_exporter": "python",
   "pygments_lexer": "ipython3",
   "version": "3.8.12"
  }
 },
 "nbformat": 4,
 "nbformat_minor": 5
}
