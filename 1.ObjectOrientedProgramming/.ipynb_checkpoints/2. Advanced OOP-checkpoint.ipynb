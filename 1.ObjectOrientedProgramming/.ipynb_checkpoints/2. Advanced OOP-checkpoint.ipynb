{
 "cells": [
  {
   "cell_type": "markdown",
   "id": "44b4c84c-6f53-4960-93e5-c094042aa34f",
   "metadata": {},
   "source": [
    "# Object-oriented programming\n",
    "In the previous notebook, we implemented a simple class for the Portfolio class that allows the programmer to keep track of the positions in their portfolio. In this notebook, we will further extend this portfolio class to allow some more complex behavior. Three different advanced concepts will be introduced:\n",
    "1. Dunder methods (also called magic methods)\n",
    "2. Different ways of defining class attributes\n",
    "3. Class- and static methods"
   ]
  },
  {
   "cell_type": "code",
   "execution_count": 1,
   "id": "9b29670e-297d-4950-ae84-9f5fb13ef061",
   "metadata": {},
   "outputs": [
    {
     "name": "stdout",
     "output_type": "stream",
     "text": [
      "A portfolio consisting of 3 positions and a total value of 1,467,400.0 USD.\n"
     ]
    }
   ],
   "source": [
    "from Portfolio import Portfolio\n",
    "            \n",
    "positions = {\"Apple\":   {\"Share price\": 150.0,  \"Number\": 1000},\n",
    "             \"Verizon\": {\"Share price\": 52.4,   \"Number\": 2000},\n",
    "             \"Solvay\":  {\"Share price\": 106.3,  \"Number\": 2000}}\n",
    "initial_cash = 1e6\n",
    "portfolio = Portfolio(initial_cash=initial_cash, positions=positions)\n",
    "\n",
    "print(portfolio)"
   ]
  },
  {
   "cell_type": "markdown",
   "id": "a5147251-4163-4225-baf8-532018a49ecd",
   "metadata": {},
   "source": [
    "## Dunder methods\n",
    "Two dunder methods have already been specified in the class i.e. the \\_\\_init\\_\\_ and \\_\\_str\\_\\_ methods. Now, we would like to extend the functionality of the class by specifying additional dunder methods.\n",
    "\n",
    "### Getting the length of the class\n",
    "In python, the len() function is often used to get the number of elements in a certain object. For example, len(pd.DataFrame) returns the number of rows in the dataframe and len(list) returns the number of objects in a list. We would like to specify this len(Portfolio) function to return the number of positions in the portfolio."
   ]
  },
  {
   "cell_type": "code",
   "execution_count": 2,
   "id": "7e85e8d4-d3da-446e-88b1-5e0de8c77c39",
   "metadata": {},
   "outputs": [
    {
     "data": {
      "text/plain": [
       "3"
      ]
     },
     "execution_count": 2,
     "metadata": {},
     "output_type": "execute_result"
    }
   ],
   "source": [
    "# Currently\n",
    "len(portfolio)  # Returns ERROR"
   ]
  },
  {
   "cell_type": "code",
   "execution_count": 3,
   "id": "f83d66fc-0677-4ab7-b976-f8cbb32c9cd5",
   "metadata": {},
   "outputs": [
    {
     "data": {
      "text/plain": [
       "3"
      ]
     },
     "execution_count": 3,
     "metadata": {},
     "output_type": "execute_result"
    }
   ],
   "source": [
    "# After implementing the __len__ dunder method in the portfolio file\n",
    "len(portfolio) # Returns 3"
   ]
  },
  {
   "cell_type": "markdown",
   "id": "eb88d494-cc82-4c71-a7d3-a85e4735872b",
   "metadata": {},
   "source": [
    "### Defining how to add two portfolios to each other\n",
    "Sometimes, it could be useful to add the positions of two portfolios up into a new portfolio. Currently, this kind of behavior is not supported."
   ]
  },
  {
   "cell_type": "code",
   "execution_count": 4,
   "id": "4f94dc3f-0a84-4e30-960a-bfafc01fa06f",
   "metadata": {},
   "outputs": [],
   "source": [
    "positions = {\"Apple\":   {\"Share price\": 150.0,  \"Number\": 1000}, # Known position\n",
    "             \"IBM\": {\"Share price\": 52.4,   \"Number\": 2000}}     # New position\n",
    "portfolio_2 = Portfolio(initial_cash=2e6, positions=positions)\n",
    "# Currently\n",
    "merged_portfolio = portfolio + portfolio_2 # ERROR"
   ]
  },
  {
   "cell_type": "code",
   "execution_count": 5,
   "id": "df7f131e-b157-43fb-b595-0594048871e8",
   "metadata": {},
   "outputs": [
    {
     "name": "stdout",
     "output_type": "stream",
     "text": [
      "A portfolio consisting of 4 positions and a total value of 3,722,200.0 USD.\n"
     ]
    }
   ],
   "source": [
    "print(merged_portfolio)"
   ]
  },
  {
   "cell_type": "code",
   "execution_count": 6,
   "id": "04a80e3f-fe0e-4e79-8a32-4bc210952a26",
   "metadata": {},
   "outputs": [
    {
     "data": {
      "text/plain": [
       "{'Apple': {'Share price': 150.0, 'Number': 2000},\n",
       " 'Verizon': {'Share price': 52.4, 'Number': 2000},\n",
       " 'Solvay': {'Share price': 106.3, 'Number': 2000},\n",
       " 'IBM': {'Share price': 52.4, 'Number': 2000}}"
      ]
     },
     "execution_count": 6,
     "metadata": {},
     "output_type": "execute_result"
    }
   ],
   "source": [
    "merged_portfolio.positions"
   ]
  },
  {
   "cell_type": "markdown",
   "id": "32a07d36-2f6d-4952-9621-924dd0b7423c",
   "metadata": {},
   "source": [
    "### Comparing portfolios with each other\n",
    "When working with multiple portfolios, we might also be interested in comparing portfolios with each other in terms of size."
   ]
  },
  {
   "cell_type": "code",
   "execution_count": 7,
   "id": "7700a627-22e0-497b-9630-bf2d43141398",
   "metadata": {},
   "outputs": [
    {
     "data": {
      "text/plain": [
       "False"
      ]
     },
     "execution_count": 7,
     "metadata": {},
     "output_type": "execute_result"
    }
   ],
   "source": [
    "# Currently\n",
    "portfolio >= portfolio_2 # Error"
   ]
  },
  {
   "cell_type": "markdown",
   "id": "b982a345-491e-4d00-93bd-8fdd1a11be62",
   "metadata": {},
   "source": [
    "### Iterating over the positions in a portfolio\n",
    "Let's say we would like to see the total exposure for each of the positions in the portfolio. Currently, we need to do this like this:"
   ]
  },
  {
   "cell_type": "code",
   "execution_count": 8,
   "id": "32f4f698-960f-4246-b1e6-b18befe5f928",
   "metadata": {},
   "outputs": [
    {
     "name": "stdout",
     "output_type": "stream",
     "text": [
      "Exposure Apple: 300000.0 USD\n",
      "Exposure Verizon: 104800.0 USD\n",
      "Exposure Solvay: 212600.0 USD\n",
      "Exposure IBM: 104800.0 USD\n"
     ]
    }
   ],
   "source": [
    "for company, position in portfolio.positions.items():\n",
    "    print(\"Exposure {c}: {exposure} USD\".format(\n",
    "            c=company, \n",
    "            exposure=position['Share price']*position['Number']))"
   ]
  },
  {
   "cell_type": "markdown",
   "id": "2c68dfb1-21b7-4439-aef4-9958d0be7cb1",
   "metadata": {},
   "source": [
    "The syntax can be simplified slightly if we implement the \\_\\_next\\_\\_ and  \\_\\_iter\\_\\_ dunder methods."
   ]
  },
  {
   "cell_type": "code",
   "execution_count": 9,
   "id": "81c8632f-f328-41aa-853c-2dccc4c2cf24",
   "metadata": {},
   "outputs": [
    {
     "name": "stdout",
     "output_type": "stream",
     "text": [
      "Exposure Apple: 300000.0 USD\n",
      "Exposure Verizon: 104800.0 USD\n",
      "Exposure Solvay: 212600.0 USD\n",
      "Exposure IBM: 104800.0 USD\n"
     ]
    }
   ],
   "source": [
    "for company, position in portfolio:\n",
    "    print(\"Exposure {c}: {exposure} USD\".format(\n",
    "            c=company, \n",
    "            exposure=position['Share price']*position['Number']))"
   ]
  },
  {
   "cell_type": "markdown",
   "id": "31a288a5-1c09-4f8f-8fcf-fe187701493d",
   "metadata": {},
   "source": [
    "## Class attributes\n",
    "Currently, all attributes are implemented using the classic syntax. However, this creates a couple of very important problems that need to be solved!"
   ]
  },
  {
   "cell_type": "markdown",
   "id": "5caf905f-3e42-4a8e-94e9-4417b222f402",
   "metadata": {},
   "source": [
    "1. **The total value of a portfolio is actually an attribute, however, it is only implemented using the get_total_value method** "
   ]
  },
  {
   "cell_type": "code",
   "execution_count": 10,
   "id": "0fdbc006-e45e-4d0f-875a-cab69a738666",
   "metadata": {},
   "outputs": [
    {
     "data": {
      "text/plain": [
       "1467400.0"
      ]
     },
     "execution_count": 10,
     "metadata": {},
     "output_type": "execute_result"
    }
   ],
   "source": [
    "portfolio.value # AttributeError"
   ]
  },
  {
   "cell_type": "code",
   "execution_count": 11,
   "id": "633556bd-ba38-4cd3-865c-bf79bd7f3ea8",
   "metadata": {},
   "outputs": [],
   "source": [
    "# Note that we cannot modify the value of the portfolio -> which makes sense\n",
    "#portfolio.value = 1e9"
   ]
  },
  {
   "cell_type": "markdown",
   "id": "6b66b4d6-349f-4271-a319-13eb9f42eaf9",
   "metadata": {},
   "source": [
    "2. **Currently, a user can update the number of shares in a certain position without using the make_transactions method**"
   ]
  },
  {
   "cell_type": "code",
   "execution_count": 12,
   "id": "78665939-6eb9-4550-ab3c-a87396361af1",
   "metadata": {},
   "outputs": [
    {
     "data": {
      "text/plain": [
       "dict_keys(['_Portfolio__initial_cash', '_Portfolio__positions', 'cash', 'n', 'companies'])"
      ]
     },
     "execution_count": 12,
     "metadata": {},
     "output_type": "execute_result"
    }
   ],
   "source": [
    "portfolio.__dict__.keys()"
   ]
  },
  {
   "cell_type": "code",
   "execution_count": 13,
   "id": "f8f692cf-589d-4ee5-b5c0-5d30104e4d57",
   "metadata": {},
   "outputs": [
    {
     "name": "stdout",
     "output_type": "stream",
     "text": [
      "Pre-transaction cash: 745,200.0 USD\n",
      "{'Share price': 150.0, 'Number': 2000}\n",
      "{'Share price': 150.0, 'Number': 2000}\n",
      "Post-transaction cash: 745,200.0 USD\n"
     ]
    }
   ],
   "source": [
    "print(f\"Pre-transaction cash: {portfolio.cash:,} USD\")\n",
    "print(portfolio.positions[\"Apple\"])\n",
    "portfolio.positions[\"Apple\"][\"Number\"] += 100\n",
    "print(portfolio.positions[\"Apple\"])\n",
    "print(f\"Post-transaction cash: {portfolio.cash:,} USD\")\n",
    "\n",
    "# !! CASH POSITION DID NOT UPDATE AND THIS RETURNED NO ERRORS"
   ]
  },
  {
   "cell_type": "markdown",
   "id": "a42d2ead-bc7f-4ab2-bf94-fe5babba5438",
   "metadata": {},
   "source": [
    "Solution? Make the portfolio positions a private attribute! We can then still allow people to make changes but this time only on the copy so it does not affect the actual positions of our portfolio. Then, we can allow the user to explicitly change the positions in the portfolio."
   ]
  },
  {
   "cell_type": "code",
   "execution_count": 14,
   "id": "8d3e011a-2e5e-4590-963a-5a64415ded28",
   "metadata": {},
   "outputs": [
    {
     "name": "stdout",
     "output_type": "stream",
     "text": [
      "Pre-transaction cash: 745,200.0 USD\n",
      "{'Share price': 150.0, 'Number': 2000}\n",
      "{'Share price': 150.0, 'Number': 2100}\n",
      "Post-transaction cash: 262,800.0 USD\n"
     ]
    }
   ],
   "source": [
    "print(f\"Pre-transaction cash: {portfolio.cash:,} USD\")\n",
    "print(portfolio.positions[\"Apple\"])\n",
    "new_positions = portfolio.positions\n",
    "new_positions[\"Apple\"][\"Number\"] += 100\n",
    "portfolio.update_positions(new_positions)\n",
    "print(portfolio.positions[\"Apple\"])\n",
    "print(f\"Post-transaction cash: {portfolio.cash:,} USD\")\n",
    "\n",
    "# !! Now the cash position did update properly"
   ]
  },
  {
   "cell_type": "code",
   "execution_count": 15,
   "id": "7a064e2a-557f-4e5c-89df-07638118bffb",
   "metadata": {},
   "outputs": [
    {
     "data": {
      "text/plain": [
       "dict_keys(['_Portfolio__initial_cash', '_Portfolio__positions', 'cash', 'n', 'companies'])"
      ]
     },
     "execution_count": 15,
     "metadata": {},
     "output_type": "execute_result"
    }
   ],
   "source": [
    "portfolio.__dict__.keys()"
   ]
  },
  {
   "cell_type": "markdown",
   "id": "7c535661-12e8-4ebf-b3ad-0be12b49c936",
   "metadata": {},
   "source": [
    "## Advanced methods\n",
    "Now that we have focused on the attributes of the portfolio, we could also look at more advanced methods for classes like for example class methods and static methods.\n",
    "\n",
    "Take for example the case where instead of providing a dictionary, we would actually like to construct the positions from a dataframe. This type of behavior can be implemented using class methods. Class methods basically provide an alternative to using the \\_\\_init\\_\\_ method."
   ]
  },
  {
   "cell_type": "code",
   "execution_count": 16,
   "id": "39803b5e-011f-4f88-b456-07bc79814df2",
   "metadata": {},
   "outputs": [
    {
     "data": {
      "text/html": [
       "<div>\n",
       "<style scoped>\n",
       "    .dataframe tbody tr th:only-of-type {\n",
       "        vertical-align: middle;\n",
       "    }\n",
       "\n",
       "    .dataframe tbody tr th {\n",
       "        vertical-align: top;\n",
       "    }\n",
       "\n",
       "    .dataframe thead th {\n",
       "        text-align: right;\n",
       "    }\n",
       "</style>\n",
       "<table border=\"1\" class=\"dataframe\">\n",
       "  <thead>\n",
       "    <tr style=\"text-align: right;\">\n",
       "      <th></th>\n",
       "      <th>company</th>\n",
       "      <th>share_price</th>\n",
       "      <th>number</th>\n",
       "    </tr>\n",
       "  </thead>\n",
       "  <tbody>\n",
       "    <tr>\n",
       "      <th>0</th>\n",
       "      <td>Apple</td>\n",
       "      <td>150.0</td>\n",
       "      <td>1000</td>\n",
       "    </tr>\n",
       "    <tr>\n",
       "      <th>1</th>\n",
       "      <td>Verizon</td>\n",
       "      <td>52.4</td>\n",
       "      <td>2000</td>\n",
       "    </tr>\n",
       "    <tr>\n",
       "      <th>2</th>\n",
       "      <td>Solvay</td>\n",
       "      <td>106.3</td>\n",
       "      <td>2000</td>\n",
       "    </tr>\n",
       "  </tbody>\n",
       "</table>\n",
       "</div>"
      ],
      "text/plain": [
       "   company  share_price  number\n",
       "0    Apple        150.0    1000\n",
       "1  Verizon         52.4    2000\n",
       "2   Solvay        106.3    2000"
      ]
     },
     "execution_count": 16,
     "metadata": {},
     "output_type": "execute_result"
    }
   ],
   "source": [
    "import pandas as pd\n",
    "portfolio_df = pd.DataFrame(\n",
    "    {\"company\": [\"Apple\", \"Verizon\", \"Solvay\"],\n",
    "     \"share_price\": [150, 52.4, 106.3],\n",
    "     \"number\": [1000, 2000, 2000]}\n",
    ")\n",
    "portfolio_df"
   ]
  },
  {
   "cell_type": "code",
   "execution_count": 17,
   "id": "c14801ba-6a70-4904-9cfe-0da5ea01e9f3",
   "metadata": {},
   "outputs": [
    {
     "name": "stdout",
     "output_type": "stream",
     "text": [
      "A portfolio consisting of 3 positions and a total value of 1,467,400.0 USD.\n"
     ]
    }
   ],
   "source": [
    "port = portfolio.from_dataframe(initial_cash, portfolio=portfolio_df)\n",
    "print(port)"
   ]
  },
  {
   "cell_type": "code",
   "execution_count": 18,
   "id": "783fe333-dc38-457c-8303-09926bae341f",
   "metadata": {},
   "outputs": [
    {
     "data": {
      "text/plain": [
       "{'Apple': {'Share price': 150.0, 'Number': 1000},\n",
       " 'Verizon': {'Share price': 52.4, 'Number': 2000},\n",
       " 'Solvay': {'Share price': 106.3, 'Number': 2000}}"
      ]
     },
     "execution_count": 18,
     "metadata": {},
     "output_type": "execute_result"
    }
   ],
   "source": [
    "port.positions"
   ]
  },
  {
   "cell_type": "markdown",
   "id": "f2fd594d-a453-4597-93b7-757fc47a1b44",
   "metadata": {},
   "source": [
    "Sometimes, in a class, you also use methods that do not strictly require a class instance to be executed. For example, the calculation of a present value can be very relevant for certain portfolios e.g. fixed income portfolios, however, the calculation of this value does not require the portfolio to be instantiated. In that case, we define a static method."
   ]
  },
  {
   "cell_type": "code",
   "execution_count": 19,
   "id": "7a7fcca3-99c1-492a-99d4-32f0391482d5",
   "metadata": {},
   "outputs": [
    {
     "name": "stdout",
     "output_type": "stream",
     "text": [
      "Present value: 100,000,000.0\n"
     ]
    }
   ],
   "source": [
    "print(\"Present value: {:,}\".format(portfolio.get_present_value(fv=110e6, r=0.10, time=1)))"
   ]
  },
  {
   "cell_type": "markdown",
   "id": "af9e5cdc-9b16-4de5-91e0-6182d31908d3",
   "metadata": {},
   "source": [
    "Instead of using a class static method we could also define the function outside of the class, however, the disadvantage is that now your logic is not contained inside the class. Furthermore, we are now mixing namespaces: https://www.programiz.com/python-programming/namespace."
   ]
  }
 ],
 "metadata": {
  "kernelspec": {
   "display_name": "Python 3 (ipykernel)",
   "language": "python",
   "name": "python3"
  },
  "language_info": {
   "codemirror_mode": {
    "name": "ipython",
    "version": 3
   },
   "file_extension": ".py",
   "mimetype": "text/x-python",
   "name": "python",
   "nbconvert_exporter": "python",
   "pygments_lexer": "ipython3",
   "version": "3.8.12"
  }
 },
 "nbformat": 4,
 "nbformat_minor": 5
}
