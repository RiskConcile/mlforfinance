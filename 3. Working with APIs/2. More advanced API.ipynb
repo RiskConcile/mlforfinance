{
 "cells": [
  {
   "cell_type": "markdown",
   "id": "80cd514d-2b36-4f49-8d4a-85a40b6cf232",
   "metadata": {},
   "source": [
    "# Working with APIs\n",
    "The previous notebook used an API that only required the URL to be specified. Now, we will explore an API that also uses authentication."
   ]
  },
  {
   "cell_type": "markdown",
   "id": "8b835d37-40c2-410a-bd54-bd27c55f3ee9",
   "metadata": {},
   "source": [
    "**WARNING**: usually APIs that require some authentication are paid APIs. In this case, we will make use of the google news API. This API offers a fast registration method and has a free trail."
   ]
  },
  {
   "cell_type": "code",
   "execution_count": 2,
   "id": "c7c952a0-e9db-4daa-b55f-9f184c8dd405",
   "metadata": {},
   "outputs": [],
   "source": [
    "import requests\n",
    "API_key = \"8908fb56b5f24d398c4e19649cb4068d\""
   ]
  },
  {
   "cell_type": "markdown",
   "id": "f83bc07e-1b75-4dc0-854a-7f00438d81f1",
   "metadata": {},
   "source": [
    "## First example\n",
    "Get the top headlines in Belgium for today:"
   ]
  },
  {
   "cell_type": "code",
   "execution_count": null,
   "id": "c15707e9-2de9-401c-951b-a77fd51727db",
   "metadata": {},
   "outputs": [],
   "source": [
    "response = requests.get(\"https://newsapi.org/v2/top-headlines\",\n",
    "                       headers={'x-api-key': API_key},\n",
    "                       params={'country': 'be'})\n",
    "\n",
    "print(response.status_code)\n",
    "if response.status_code == 200:\n",
    "    #print(response.json())\n",
    "    pass"
   ]
  },
  {
   "cell_type": "markdown",
   "id": "237be7c1-a41b-44a4-93fb-c28f7f2a053c",
   "metadata": {},
   "source": [
    "As you can see above, we now need to specify a header (recall the general message syntax) as well as some parameters (which are part of the data field in the general message syntax). Depending on the query, the parameters can also be specified in the data='' parameter of the requests.get function. **The specific syntax that needs to be used for each API is specific for the API**."
   ]
  },
  {
   "cell_type": "markdown",
   "id": "06035159-5a58-4ca1-a381-8efbd297c346",
   "metadata": {},
   "source": [
    "## Getting to know the API\n",
    "The documentation for the API can be found on https://newsapi.org/docs/get-started. "
   ]
  },
  {
   "cell_type": "markdown",
   "id": "7cbc01de-c9eb-40d0-b0c2-214c6bf2e4bf",
   "metadata": {},
   "source": [
    "The API allows the specification of the following parameters:\n",
    "- q: a query like for example Apple or Tim Cook\n",
    "- from: the start date for which you would like to collect articles (YYYY-MM-DD)\n",
    "- sortBy: how to sort (e.g. popularity)\n",
    "- country: the country in which the articles are published.\n",
    "- ....\n",
    "\n",
    "Exercise: get top headlines published in the US in the last 7 days (date can be hardcoded). Sort these articles based on popularity."
   ]
  },
  {
   "cell_type": "code",
   "execution_count": null,
   "id": "592f1e88-68d6-4bc7-a77d-d07c0949e442",
   "metadata": {},
   "outputs": [],
   "source": []
  },
  {
   "cell_type": "markdown",
   "id": "472f2435-ca0f-46de-af10-46e63b8919a4",
   "metadata": {},
   "source": [
    "Exercise: print the authors of these articles"
   ]
  },
  {
   "cell_type": "code",
   "execution_count": 37,
   "id": "bcbe1be3-3532-4859-b2f4-ba09c80ab6ba",
   "metadata": {},
   "outputs": [
    {
     "name": "stdout",
     "output_type": "stream",
     "text": [
      "G. P. Rodriguez\n",
      "https://www.facebook.com/bbcnews\n",
      "Rory Smith\n",
      "None\n",
      "None\n",
      "Amir Tal, Abeer Salman, Mike Schwartz, Ibrahim Dahman and Shira Gemer, CNN\n",
      "Eric Lipton, Dionne Searcey, Ashley Gilbertson\n",
      "Janelle Griffith\n",
      "TMZ Staff\n",
      "Jesse O’Neill\n",
      "Aya Elamroussi, CNN\n",
      "Jesse O’Neill\n",
      "None\n",
      "Christy Piña\n",
      "Brie Stimson\n",
      "David Kenyon\n",
      "Melissa Eddy\n",
      "Nick Valdez\n",
      "https://www.facebook.com/bbcnews\n",
      "Jordan James\n"
     ]
    }
   ],
   "source": [
    "for article in response.json().get('articles'):\n",
    "    print(article.get('author'))"
   ]
  },
  {
   "cell_type": "markdown",
   "id": "960f1638-4e0b-4b00-bdf9-6d318488eb65",
   "metadata": {},
   "source": [
    "### Note\n",
    "It is quite common for APIs to also provide a python package that helps you to interact with the API. For this API, this is the https://pypi.org/project/newsapi-python/ package which is described here: https://newsapi.org/docs/client-libraries/python."
   ]
  }
 ],
 "metadata": {
  "kernelspec": {
   "display_name": "Python 3 (ipykernel)",
   "language": "python",
   "name": "python3"
  },
  "language_info": {
   "codemirror_mode": {
    "name": "ipython",
    "version": 3
   },
   "file_extension": ".py",
   "mimetype": "text/x-python",
   "name": "python",
   "nbconvert_exporter": "python",
   "pygments_lexer": "ipython3",
   "version": "3.8.12"
  }
 },
 "nbformat": 4,
 "nbformat_minor": 5
}
