{
 "cells": [
  {
   "cell_type": "markdown",
   "id": "80cd514d-2b36-4f49-8d4a-85a40b6cf232",
   "metadata": {},
   "source": [
    "# Working with APIs\n",
    "Next, we will trigger an error in the API request and try to handle the error appropriately."
   ]
  },
  {
   "cell_type": "code",
   "execution_count": 38,
   "id": "c7c952a0-e9db-4daa-b55f-9f184c8dd405",
   "metadata": {},
   "outputs": [],
   "source": [
    "import requests\n",
    "API_key = \"some-wrong-key\""
   ]
  },
  {
   "cell_type": "markdown",
   "id": "f83bc07e-1b75-4dc0-854a-7f00438d81f1",
   "metadata": {},
   "source": [
    "## Making a request"
   ]
  },
  {
   "cell_type": "code",
   "execution_count": 39,
   "id": "4d03a12b-35a1-4fbc-8b13-c1d25597514d",
   "metadata": {},
   "outputs": [
    {
     "name": "stdout",
     "output_type": "stream",
     "text": [
      "401\n"
     ]
    }
   ],
   "source": [
    "response = requests.get(\"https://newsapi.org/v2/top-headlines\",\n",
    "                       headers={'x-api-key': API_key},\n",
    "                       params={'country': 'be'})\n",
    "\n",
    "print(response.status_code)\n",
    "if response.status_code == 200:\n",
    "    print(response.json())"
   ]
  },
  {
   "cell_type": "markdown",
   "id": "2f0b7f61-f61c-46ed-8b51-4488dac51dda",
   "metadata": {},
   "source": [
    "We see that the status code is now 401. This error is related to a so-called 401 Unauthorized error. We would like to handle this error by raising an error message in our python program."
   ]
  },
  {
   "cell_type": "code",
   "execution_count": 40,
   "id": "0e53f320-f801-488e-830e-4b96c73daf79",
   "metadata": {},
   "outputs": [
    {
     "name": "stdout",
     "output_type": "stream",
     "text": [
      "401\n"
     ]
    },
    {
     "ename": "ValueError",
     "evalue": "Please provide the correct API Key",
     "output_type": "error",
     "traceback": [
      "\u001b[0;31m---------------------------------------------------------------------------\u001b[0m",
      "\u001b[0;31mValueError\u001b[0m                                Traceback (most recent call last)",
      "\u001b[0;32m/tmp/ipykernel_64512/708812116.py\u001b[0m in \u001b[0;36m<module>\u001b[0;34m\u001b[0m\n\u001b[1;32m      7\u001b[0m     \u001b[0mprint\u001b[0m\u001b[0;34m(\u001b[0m\u001b[0mresponse\u001b[0m\u001b[0;34m.\u001b[0m\u001b[0mjson\u001b[0m\u001b[0;34m(\u001b[0m\u001b[0;34m)\u001b[0m\u001b[0;34m)\u001b[0m\u001b[0;34m\u001b[0m\u001b[0;34m\u001b[0m\u001b[0m\n\u001b[1;32m      8\u001b[0m \u001b[0;32melif\u001b[0m \u001b[0mresponse\u001b[0m\u001b[0;34m.\u001b[0m\u001b[0mstatus_code\u001b[0m \u001b[0;34m==\u001b[0m \u001b[0;36m401\u001b[0m\u001b[0;34m:\u001b[0m\u001b[0;34m\u001b[0m\u001b[0;34m\u001b[0m\u001b[0m\n\u001b[0;32m----> 9\u001b[0;31m     \u001b[0;32mraise\u001b[0m \u001b[0mValueError\u001b[0m\u001b[0;34m(\u001b[0m\u001b[0;34m'Please provide the correct API Key'\u001b[0m\u001b[0;34m)\u001b[0m\u001b[0;34m\u001b[0m\u001b[0;34m\u001b[0m\u001b[0m\n\u001b[0m",
      "\u001b[0;31mValueError\u001b[0m: Please provide the correct API Key"
     ]
    }
   ],
   "source": [
    "response = requests.get(\"https://newsapi.org/v2/top-headlines\",\n",
    "                       headers={'x-api-key': API_key},\n",
    "                       params={'country': 'be'})\n",
    "\n",
    "print(response.status_code)\n",
    "if response.status_code == 200:\n",
    "    print(response.json())\n",
    "elif response.status_code == 401:\n",
    "    raise ValueError('Please provide the correct API Key')"
   ]
  },
  {
   "cell_type": "markdown",
   "id": "6e0ca7ee-366a-4f57-b956-9fcbc006d1bf",
   "metadata": {},
   "source": [
    "For a full list of built-in error types in python: https://www.tutorialsteacher.com/python/error-types-in-python."
   ]
  }
 ],
 "metadata": {
  "kernelspec": {
   "display_name": "Python 3 (ipykernel)",
   "language": "python",
   "name": "python3"
  },
  "language_info": {
   "codemirror_mode": {
    "name": "ipython",
    "version": 3
   },
   "file_extension": ".py",
   "mimetype": "text/x-python",
   "name": "python",
   "nbconvert_exporter": "python",
   "pygments_lexer": "ipython3",
   "version": "3.8.12"
  }
 },
 "nbformat": 4,
 "nbformat_minor": 5
}
