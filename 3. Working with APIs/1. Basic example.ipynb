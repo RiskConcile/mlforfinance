{
 "cells": [
  {
   "cell_type": "markdown",
   "id": "5a348aa2-1fbf-490e-88ee-c5e689781f46",
   "metadata": {},
   "source": [
    "# Working with APIs - Basic Example\n",
    "This notebook provides a basic example for working with an API. The API that will be used is the http://open-notify.org/ API which provides data on the number of persons in space as well as the location of the International Space Station (ISS)."
   ]
  },
  {
   "cell_type": "code",
   "execution_count": 1,
   "id": "3ecdcd8d-e5f4-4915-92fc-df84b196e7b8",
   "metadata": {},
   "outputs": [],
   "source": [
    "import requests"
   ]
  },
  {
   "cell_type": "markdown",
   "id": "bee00585-f09b-4c49-92de-0a7c54af7ad9",
   "metadata": {},
   "source": [
    "### The most basic API\n",
    "The open-notify is the most basic API one can work with since it does not require any data, nor does it require us to provide for example authentication information in the headers. The user only needs to specify the url of the API."
   ]
  },
  {
   "cell_type": "code",
   "execution_count": 2,
   "id": "76360b63-fe0d-4d2d-903d-6857e6e78d59",
   "metadata": {},
   "outputs": [
    {
     "name": "stdout",
     "output_type": "stream",
     "text": [
      "Raw JSON:\n",
      "\n",
      "{'message': 'success', 'people': [{'name': 'Mark Vande Hei', 'craft': 'ISS'}, {'name': 'Pyotr Dubrov', 'craft': 'ISS'}, {'name': 'Anton Shkaplerov', 'craft': 'ISS'}, {'name': 'Zhai Zhigang', 'craft': 'Shenzhou 13'}, {'name': 'Wang Yaping', 'craft': 'Shenzhou 13'}, {'name': 'Ye Guangfu', 'craft': 'Shenzhou 13'}, {'name': 'Raja Chari', 'craft': 'ISS'}, {'name': 'Tom Marshburn', 'craft': 'ISS'}, {'name': 'Kayla Barron', 'craft': 'ISS'}, {'name': 'Matthias Maurer', 'craft': 'ISS'}], 'number': 10}\n",
      "-----\n",
      "Status code: 200\n",
      "-----\n",
      "There are 10 people in space\n"
     ]
    }
   ],
   "source": [
    "url = \"http://api.open-notify.org/astros.json\"\n",
    "\n",
    "response = requests.get(url)\n",
    "\n",
    "print('Raw JSON:\\n')\n",
    "print(response.json())\n",
    "print('-----')\n",
    "print('Status code: {}'.format(response.status_code))\n",
    "print('-----')\n",
    "\n",
    "if response.status_code == 200:\n",
    "    print(\"There are {} people in space\".format(\n",
    "        response.json().get('number')\n",
    "    ))"
   ]
  },
  {
   "cell_type": "markdown",
   "id": "ece10d39-05a5-4558-93bc-2ef04c2bd519",
   "metadata": {},
   "source": [
    "#### Analyze the results\n",
    "Print the names of the people that are currently in space:"
   ]
  },
  {
   "cell_type": "code",
   "execution_count": null,
   "id": "1222bda5-65d0-4396-9d38-2e9b0d6ffeb3",
   "metadata": {},
   "outputs": [],
   "source": []
  },
  {
   "cell_type": "markdown",
   "id": "a3f44dbe-28a4-4b07-b692-469d07182deb",
   "metadata": {},
   "source": [
    "Show the number of people on board of the different spacecrafts. Tip pandas can help."
   ]
  },
  {
   "cell_type": "code",
   "execution_count": null,
   "id": "39a95331-7854-4222-9f20-45f194c44d5e",
   "metadata": {},
   "outputs": [],
   "source": []
  },
  {
   "cell_type": "markdown",
   "id": "ad619b31-9bae-48ec-bbc5-329dda21a0c0",
   "metadata": {},
   "source": [
    "#### Get current location of ISS\n",
    "The open-notify API also allows you to get current location of the ISS by simply using a different URL."
   ]
  },
  {
   "cell_type": "code",
   "execution_count": 3,
   "id": "ce6e5caf-716d-40aa-ab24-fff0e5f9fda8",
   "metadata": {},
   "outputs": [
    {
     "name": "stdout",
     "output_type": "stream",
     "text": [
      "{'timestamp': 1637504050, 'message': 'success', 'iss_position': {'latitude': '5.7416', 'longitude': '14.6293'}}\n"
     ]
    }
   ],
   "source": [
    "url = \"http://api.open-notify.org/iss-now.json\"\n",
    "response = requests.get(url)\n",
    "\n",
    "if response.status_code == 200:\n",
    "    print(response.json())"
   ]
  },
  {
   "cell_type": "markdown",
   "id": "4cf9f123-3b73-4a75-a8fa-e4ad20bb354a",
   "metadata": {},
   "source": [
    "Print the location of the ISS for the next 10 (+/-) seconds with an interval of approximately 1 second per print statement.\n",
    "\n",
    "Hint: \n",
    "\n",
    "import time\n",
    "\n",
    "time.sleep(1) #lets python wait for 1 second"
   ]
  },
  {
   "cell_type": "code",
   "execution_count": null,
   "id": "37d4cf80-7bda-463c-85df-0709d7c0f0b2",
   "metadata": {},
   "outputs": [],
   "source": []
  }
 ],
 "metadata": {
  "kernelspec": {
   "display_name": "Python 3 (ipykernel)",
   "language": "python",
   "name": "python3"
  },
  "language_info": {
   "codemirror_mode": {
    "name": "ipython",
    "version": 3
   },
   "file_extension": ".py",
   "mimetype": "text/x-python",
   "name": "python",
   "nbconvert_exporter": "python",
   "pygments_lexer": "ipython3",
   "version": "3.8.12"
  }
 },
 "nbformat": 4,
 "nbformat_minor": 5
}
