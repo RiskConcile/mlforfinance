{
 "cells": [
  {
   "cell_type": "markdown",
   "metadata": {},
   "source": [
    "# Deep Learning Case Study: The Otto Group part 2\n",
    "\n",
    "### 1. Continuing the previous notebook..."
   ]
  },
  {
   "cell_type": "code",
   "execution_count": 1,
   "metadata": {},
   "outputs": [
    {
     "name": "stdout",
     "output_type": "stream",
     "text": [
      "dimensions input: 61878 (observations) x 93 (features)\n",
      "Number of classes: 9\n",
      "Model: \"sequential\"\n",
      "_________________________________________________________________\n",
      " Layer (type)                Output Shape              Param #   \n",
      "=================================================================\n",
      " dense (Dense)               (None, 9)                 846       \n",
      "                                                                 \n",
      " activation (Activation)     (None, 9)                 0         \n",
      "                                                                 \n",
      "=================================================================\n",
      "Total params: 846\n",
      "Trainable params: 846\n",
      "Non-trainable params: 0\n",
      "_________________________________________________________________\n"
     ]
    },
    {
     "name": "stderr",
     "output_type": "stream",
     "text": [
      "2021-12-07 23:14:06.784618: I tensorflow/core/platform/cpu_feature_guard.cc:151] This TensorFlow binary is optimized with oneAPI Deep Neural Network Library (oneDNN) to use the following CPU instructions in performance-critical operations:  AVX2 AVX512F FMA\n",
      "To enable them in other operations, rebuild TensorFlow with the appropriate compiler flags.\n"
     ]
    },
    {
     "name": "stdout",
     "output_type": "stream",
     "text": [
      "1934/1934 [==============================] - 2s 688us/step - loss: 1.9909\n",
      "Predicted probabilities [0.09968571 0.10141343 0.08751141 0.1045236  0.10176985 0.1746035\n",
      " 0.12478039 0.10015316 0.10555903]\n",
      "Nbr of samples in test: 144368\n"
     ]
    }
   ],
   "source": [
    "import warnings\n",
    "warnings.filterwarnings(\"ignore\")\n",
    "%run ottogroup_initial.ipynb"
   ]
  },
  {
   "cell_type": "markdown",
   "metadata": {},
   "source": [
    "The number of parameters of our mode is equal to: $9$ nodes on hidden layers $\\times$ $93$ input features + $1$ bias per node $\\times$ $9$ = $846$"
   ]
  },
  {
   "cell_type": "markdown",
   "metadata": {},
   "source": [
    "### 2. Cross Validation\n",
    "\n",
    "Splitting the training data into training (85%) and test (15%) using the <b>train_test_split</b> method of the sklearn.model_selection module."
   ]
  },
  {
   "cell_type": "code",
   "execution_count": 2,
   "metadata": {},
   "outputs": [],
   "source": [
    "# Sklearn model seclection module \"train_test_split\" allow us to easily split the data in train/validation sets\n",
    "from sklearn.model_selection import train_test_split"
   ]
  },
  {
   "cell_type": "code",
   "execution_count": 3,
   "metadata": {},
   "outputs": [],
   "source": [
    "X_train, X_val, Y_train, Y_val = train_test_split(X_train, Y_train,\n",
    "                                                  test_size=0.15, random_state=42)"
   ]
  },
  {
   "cell_type": "code",
   "execution_count": 4,
   "metadata": {},
   "outputs": [
    {
     "name": "stdout",
     "output_type": "stream",
     "text": [
      "Nbr of samples in training: 52596\n",
      "Nbr of sample in test: 9282\n"
     ]
    }
   ],
   "source": [
    "print('Nbr of samples in training:',X_train.shape[0])\n",
    "print('Nbr of sample in test:',X_val.shape[0])"
   ]
  },
  {
   "cell_type": "markdown",
   "metadata": {},
   "source": [
    "### 3. Adding a batch size"
   ]
  },
  {
   "cell_type": "markdown",
   "metadata": {},
   "source": [
    "In the fit method of the model we can now pass both training / test data.<br>\n",
    "The <b>batch size</b> is set to 128. This means that the weights are only changed after processing 128 items in the list.<br>\n",
    "The <b>epoch</b> is set to 5, which means that the whole data-set passes 5 times through the backpropagation."
   ]
  },
  {
   "cell_type": "code",
   "execution_count": 5,
   "metadata": {},
   "outputs": [
    {
     "name": "stdout",
     "output_type": "stream",
     "text": [
      "Epoch 1/5\n",
      "411/411 [==============================] - 0s 1ms/step - loss: 1.8693 - val_loss: 1.8553\n",
      "Epoch 2/5\n",
      "411/411 [==============================] - 0s 886us/step - loss: 1.8497 - val_loss: 1.8375\n",
      "Epoch 3/5\n",
      "411/411 [==============================] - 0s 894us/step - loss: 1.8333 - val_loss: 1.8223\n",
      "Epoch 4/5\n",
      "411/411 [==============================] - 0s 885us/step - loss: 1.8194 - val_loss: 1.8092\n",
      "Epoch 5/5\n",
      "411/411 [==============================] - 0s 847us/step - loss: 1.8071 - val_loss: 1.7977\n"
     ]
    }
   ],
   "source": [
    "model.fit(X_train, Y_train, \n",
    "          validation_data = (X_val, Y_val),\n",
    "          epochs=5,verbose=True,batch_size=128 );"
   ]
  },
  {
   "cell_type": "markdown",
   "metadata": {},
   "source": [
    "There are now two loss items:\n",
    "\n",
    "* _loss_\n",
    "* _val-loss_"
   ]
  },
  {
   "cell_type": "markdown",
   "metadata": {},
   "source": [
    "<h3>4. Setting Initial Weights</h3>\n",
    "<br>\n",
    "We are in full control over the construction of the network. The initialisation of the weights (setting them to zero in this case) is an example of this."
   ]
  },
  {
   "cell_type": "code",
   "execution_count": 6,
   "metadata": {},
   "outputs": [],
   "source": [
    "from tensorflow.keras import initializers\n",
    "\n",
    "model_zero = Sequential()\n",
    "model_zero.add(Dense(nb_classes, input_shape=(dims[1],), \n",
    "                     kernel_initializer=initializers.zeros(), \n",
    "                     activation='sigmoid'))\n",
    "model_zero.add(Activation('softmax'))\n",
    "model_zero.compile(optimizer='sgd', loss='categorical_crossentropy')"
   ]
  },
  {
   "cell_type": "code",
   "execution_count": 7,
   "metadata": {},
   "outputs": [
    {
     "name": "stdout",
     "output_type": "stream",
     "text": [
      "Epoch 1/5\n",
      "411/411 [==============================] - 1s 1ms/step - loss: 2.0801 - val_loss: 1.9990\n",
      "Epoch 2/5\n",
      "411/411 [==============================] - 0s 875us/step - loss: 1.9618 - val_loss: 1.9249\n",
      "Epoch 3/5\n",
      "411/411 [==============================] - 0s 872us/step - loss: 1.9069 - val_loss: 1.8830\n",
      "Epoch 4/5\n",
      "411/411 [==============================] - 0s 886us/step - loss: 1.8726 - val_loss: 1.8545\n",
      "Epoch 5/5\n",
      "411/411 [==============================] - 0s 887us/step - loss: 1.8479 - val_loss: 1.8328\n"
     ]
    }
   ],
   "source": [
    "model_zero.fit(X_train, Y_train, \n",
    "          validation_data = (X_val, Y_val),\n",
    "          epochs=5,verbose=True,batch_size=128) ;"
   ]
  },
  {
   "cell_type": "markdown",
   "metadata": {},
   "source": [
    "### 5. Setting constraints on the weights"
   ]
  },
  {
   "cell_type": "code",
   "execution_count": 8,
   "metadata": {},
   "outputs": [],
   "source": [
    "# Import the constraint module\n",
    "from tensorflow.keras.constraints import MaxNorm"
   ]
  },
  {
   "cell_type": "code",
   "execution_count": 9,
   "metadata": {},
   "outputs": [],
   "source": [
    "model_zero = Sequential()\n",
    "model_zero.add(Dense(nb_classes, input_shape=(dims[1],), \n",
    "                     kernel_initializer=initializers.zeros(), \n",
    "                     activation='sigmoid'))\n",
    "model_zero.add(Activation('softmax'))\n",
    "model_zero.compile(optimizer='sgd', loss='categorical_crossentropy')"
   ]
  },
  {
   "cell_type": "markdown",
   "metadata": {},
   "source": [
    "### 6. Adding Callback Functions\n",
    "Adding callback function "
   ]
  },
  {
   "cell_type": "code",
   "execution_count": 10,
   "metadata": {},
   "outputs": [],
   "source": [
    "from tensorflow.keras.callbacks import EarlyStopping, ModelCheckpoint"
   ]
  },
  {
   "cell_type": "markdown",
   "metadata": {},
   "source": [
    "#### 6.1 Callback: Early Stopping<br>\n",
    "This is call back function that is such that the model stops improving as soon\n",
    "as two consecutive times, the loss function (=val loss) has not improved or stayed the same. Two parameters are defined with the model:\n",
    "<ul>\n",
    "<li>patience: number of epochs with no improvement after which training will be stopped.\n",
    "<li>monitor:monitor: quantity to be monitored.\n",
    "    </ul>"
   ]
  },
  {
   "cell_type": "code",
   "execution_count": 11,
   "metadata": {},
   "outputs": [],
   "source": [
    "# Import the call back\n",
    "from tensorflow.keras.callbacks import EarlyStopping\n",
    "\n",
    "# Declare the callback\n",
    "early_stop = EarlyStopping(monitor='val_loss', patience=2, verbose=1)"
   ]
  },
  {
   "cell_type": "markdown",
   "metadata": {},
   "source": [
    "#### Callback: Model Checkpoints\n",
    "The intermediate networks (with temporary weights) are stored on the filepath (fBestModel) in a hdf5 format\n",
    "it is then afterwards possible to load models from this"
   ]
  },
  {
   "cell_type": "code",
   "execution_count": 12,
   "metadata": {},
   "outputs": [],
   "source": [
    "# Import the call back\n",
    "from tensorflow.keras.callbacks import ModelCheckpoint\n",
    "\n",
    "# Declare the callback\n",
    "fBestModel = './models/weights.{epoch:02d}-{val_loss:.2f}.hdf5' \n",
    "best_model = ModelCheckpoint(fBestModel, verbose=0, save_best_only=True)"
   ]
  },
  {
   "cell_type": "markdown",
   "metadata": {},
   "source": [
    "#### Add the callback functions to the fit method"
   ]
  },
  {
   "cell_type": "code",
   "execution_count": 13,
   "metadata": {},
   "outputs": [
    {
     "name": "stdout",
     "output_type": "stream",
     "text": [
      "Epoch 1/15\n",
      "411/411 [==============================] - 0s 1ms/step - loss: 1.7963 - val_loss: 1.7874\n",
      "Epoch 2/15\n",
      "411/411 [==============================] - 0s 1ms/step - loss: 1.7866 - val_loss: 1.7781\n",
      "Epoch 3/15\n",
      "411/411 [==============================] - 0s 919us/step - loss: 1.7778 - val_loss: 1.7697\n",
      "Epoch 4/15\n",
      "411/411 [==============================] - 0s 888us/step - loss: 1.7697 - val_loss: 1.7619\n",
      "Epoch 5/15\n",
      "411/411 [==============================] - 0s 902us/step - loss: 1.7623 - val_loss: 1.7547\n",
      "Epoch 6/15\n",
      "411/411 [==============================] - 0s 897us/step - loss: 1.7554 - val_loss: 1.7480\n",
      "Epoch 7/15\n",
      "411/411 [==============================] - 0s 896us/step - loss: 1.7490 - val_loss: 1.7418\n",
      "Epoch 8/15\n",
      "411/411 [==============================] - 0s 931us/step - loss: 1.7430 - val_loss: 1.7359\n",
      "Epoch 9/15\n",
      "411/411 [==============================] - 0s 898us/step - loss: 1.7373 - val_loss: 1.7304\n",
      "Epoch 10/15\n",
      "411/411 [==============================] - 0s 905us/step - loss: 1.7320 - val_loss: 1.7253\n",
      "Epoch 11/15\n",
      "411/411 [==============================] - 0s 899us/step - loss: 1.7270 - val_loss: 1.7204\n",
      "Epoch 12/15\n",
      "411/411 [==============================] - 0s 906us/step - loss: 1.7223 - val_loss: 1.7157\n",
      "Epoch 13/15\n",
      "411/411 [==============================] - 0s 907us/step - loss: 1.7178 - val_loss: 1.7114\n",
      "Epoch 14/15\n",
      "411/411 [==============================] - 0s 892us/step - loss: 1.7136 - val_loss: 1.7072\n",
      "Epoch 15/15\n",
      "411/411 [==============================] - 0s 903us/step - loss: 1.7095 - val_loss: 1.7032\n"
     ]
    }
   ],
   "source": [
    "model.fit(X_train, Y_train, validation_data = (X_val, Y_val), \n",
    "          epochs=15, \n",
    "          batch_size=128, verbose=True, \n",
    "          callbacks=[best_model, early_stop]);"
   ]
  },
  {
   "cell_type": "markdown",
   "metadata": {},
   "source": [
    "## How do we get the callback functions in the black box"
   ]
  },
  {
   "cell_type": "markdown",
   "metadata": {},
   "source": [
    "<h3>7. Evolution of the loss </h3><br>\n",
    "The evoluation of the history of the network can be plotted (after defining the appropriate plotfunction)"
   ]
  },
  {
   "cell_type": "code",
   "execution_count": 17,
   "metadata": {},
   "outputs": [],
   "source": [
    "# Auxiliary function to plot the loss from the history\n",
    "import matplotlib.pyplot as plt\n",
    "%matplotlib inline\n",
    "def plot_history(network_history):\n",
    "    plt.figure(figsize=(8,8))\n",
    "    plt.xlabel('Epochs')\n",
    "    plt.ylabel('Loss')\n",
    "    # Both losses are stored as a dictionary in \".history\"\n",
    "    plt.plot(network_history.history['loss'])\n",
    "    plt.plot(network_history.history['val_loss'])\n",
    "    plt.legend(['Training', 'Validation'])"
   ]
  },
  {
   "cell_type": "markdown",
   "metadata": {},
   "source": [
    "Since we are running 50 Epochs with batch-sizes of 128, we are going to supress the output of the model on the screen.\n",
    "But we will make use of the plot function afterwards."
   ]
  },
  {
   "cell_type": "code",
   "execution_count": 18,
   "metadata": {},
   "outputs": [],
   "source": [
    "history = model.fit(X_train, Y_train, \n",
    "                    validation_data = (X_val, Y_val), \n",
    "                    epochs=150,batch_size=1000,\n",
    "                    callbacks=[best_model, early_stop],\n",
    "                    verbose=False);"
   ]
  },
  {
   "cell_type": "code",
   "execution_count": 19,
   "metadata": {},
   "outputs": [
    {
     "data": {
      "image/png": "[encoded data removed]",
      "text/plain": [
       "<Figure size 576x576 with 1 Axes>"
      ]
     },
     "metadata": {
      "needs_background": "light"
     },
     "output_type": "display_data"
    }
   ],
   "source": [
    "plot_history(history)"
   ]
  },
  {
   "cell_type": "markdown",
   "metadata": {},
   "source": [
    "<h3>8. Adding a dropout layer</h3>\n",
    "\n",
    "Introduced in 2014 by Srivastava, et al. in their 2014 paper _Dropout: A Simple Way to Prevent Neural Networks from Overfitting_\n",
    "\n",
    "Dropout is a technique where randomly selected neurons are ignored during training. They are removed or \"dropped-out\" at random. \n",
    "\n",
    "Dropout is  implemented by randomly selecting nodes to be dropped-out with a given probability (e.g 15%) each weight update cycle (=epoch). Note that dropout is only used during the training of a model and is not used when making predictions with the model.\n",
    "\n",
    "#### In this example we set a drop layer of 20% just before the first hidden layer. This means that in each feedforward / backpropogation run 20% of the 93 nodes are going to be ignored. "
   ]
  },
  {
   "cell_type": "code",
   "execution_count": 20,
   "metadata": {},
   "outputs": [],
   "source": [
    "from tensorflow.keras.layers import Dropout\n",
    "model_drop = Sequential()\n",
    "model_drop.add(Dropout(0.2, input_shape=(dims[1],)))\n",
    "model_drop.add(Dense(nb_classes, activation='sigmoid'))\n",
    "model_drop.add(Activation('softmax'))\n",
    "model_drop.compile(optimizer='sgd', loss='categorical_crossentropy')"
   ]
  },
  {
   "cell_type": "code",
   "execution_count": 21,
   "metadata": {},
   "outputs": [
    {
     "name": "stdout",
     "output_type": "stream",
     "text": [
      "Epoch 1/5\n",
      "411/411 [==============================] - 1s 1ms/step - loss: 2.1503 - val_loss: 2.0772\n",
      "Epoch 2/5\n",
      "411/411 [==============================] - 0s 1ms/step - loss: 2.0442 - val_loss: 1.9888\n",
      "Epoch 3/5\n",
      "411/411 [==============================] - 0s 1ms/step - loss: 1.9773 - val_loss: 1.9346\n",
      "Epoch 4/5\n",
      "411/411 [==============================] - 0s 1ms/step - loss: 1.9345 - val_loss: 1.8990\n",
      "Epoch 5/5\n",
      "411/411 [==============================] - 0s 1ms/step - loss: 1.9052 - val_loss: 1.8732\n"
     ]
    }
   ],
   "source": [
    "model_drop.fit(X_train, Y_train, \n",
    "          validation_data = (X_val, Y_val),\n",
    "          epochs=5,verbose=True,batch_size=128);"
   ]
  },
  {
   "cell_type": "code",
   "execution_count": null,
   "metadata": {},
   "outputs": [],
   "source": []
  }
 ],
 "metadata": {
  "kernelspec": {
   "display_name": "Python 3 (ipykernel)",
   "language": "python",
   "name": "python3"
  },
  "language_info": {
   "codemirror_mode": {
    "name": "ipython",
    "version": 3
   },
   "file_extension": ".py",
   "mimetype": "text/x-python",
   "name": "python",
   "nbconvert_exporter": "python",
   "pygments_lexer": "ipython3",
   "version": "3.9.5"
  },
  "toc": {
   "base_numbering": 1,
   "nav_menu": {},
   "number_sections": true,
   "sideBar": true,
   "skip_h1_title": false,
   "title_cell": "Table of Contents",
   "title_sidebar": "Contents",
   "toc_cell": false,
   "toc_position": {},
   "toc_section_display": true,
   "toc_window_display": false
  },
  "varInspector": {
   "cols": {
    "lenName": 16,
    "lenType": 16,
    "lenVar": 40
   },
   "kernels_config": {
    "python": {
     "delete_cmd_postfix": "",
     "delete_cmd_prefix": "del ",
     "library": "var_list.py",
     "varRefreshCmd": "print(var_dic_list())"
    },
    "r": {
     "delete_cmd_postfix": ") ",
     "delete_cmd_prefix": "rm(",
     "library": "var_list.r",
     "varRefreshCmd": "cat(var_dic_list()) "
    }
   },
   "types_to_exclude": [
    "module",
    "function",
    "builtin_function_or_method",
    "instance",
    "_Feature"
   ],
   "window_display": false
  }
 },
 "nbformat": 4,
 "nbformat_minor": 2
}
