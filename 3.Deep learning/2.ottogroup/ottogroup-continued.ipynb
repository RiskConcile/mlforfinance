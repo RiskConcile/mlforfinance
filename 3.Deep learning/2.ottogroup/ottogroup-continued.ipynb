{
 "cells": [
  {
   "cell_type": "markdown",
   "metadata": {},
   "source": [
    "# Deep Learning Case Study: The Otto Group part 2\n",
    "\n",
    "### 1. Continuing the previous notebook..."
   ]
  },
  {
   "cell_type": "code",
   "execution_count": 1,
   "metadata": {},
   "outputs": [
    {
     "name": "stdout",
     "output_type": "stream",
     "text": [
      "dimensions input: 61878 (observations) x 93 (features)\n",
      "Number of classes: 9\n",
      "WARNING:tensorflow:From /opt/anaconda3/lib/python3.7/site-packages/tensorflow_core/python/ops/resource_variable_ops.py:1630: calling BaseResourceVariable.__init__ (from tensorflow.python.ops.resource_variable_ops) with constraint is deprecated and will be removed in a future version.\n",
      "Instructions for updating:\n",
      "If using Keras pass *_constraint arguments to layers.\n",
      "Model: \"sequential\"\n",
      "_________________________________________________________________\n",
      "Layer (type)                 Output Shape              Param #   \n",
      "=================================================================\n",
      "dense (Dense)                (None, 9)                 846       \n",
      "_________________________________________________________________\n",
      "activation (Activation)      (None, 9)                 0         \n",
      "=================================================================\n",
      "Total params: 846\n",
      "Trainable params: 846\n",
      "Non-trainable params: 0\n",
      "_________________________________________________________________\n",
      "Train on 61878 samples\n",
      "61878/61878 [==============================] - 2s 34us/sample - loss: 2.0149\n",
      "Predicted class = Number 5 (not the class name)\n",
      "Predicted probabilities [0.10201178 0.08281176 0.12761709 0.10186304 0.08581934 0.18725723\n",
      " 0.11414669 0.09214377 0.10632931]\n",
      "Nbr of samples in test: 144368\n",
      "Predicted class: 1\n",
      "Predicted probabilities:\n",
      " [0.07531751 0.17878062 0.12659755 0.17475611 0.12320838 0.07092012\n",
      " 0.0870231  0.074071   0.08932561]\n"
     ]
    },
    {
     "data": {
      "image/png": "[encoded data removed]",
      "text/plain": [
       "<Figure size 432x288 with 1 Axes>"
      ]
     },
     "metadata": {
      "needs_background": "light"
     },
     "output_type": "display_data"
    }
   ],
   "source": [
    "import warnings\n",
    "warnings.filterwarnings(\"ignore\")\n",
    "%run ottogroup_initial.ipynb"
   ]
  },
  {
   "cell_type": "markdown",
   "metadata": {},
   "source": [
    "The number of parameters of our mode is equal to: $9$ nodes on hidden layers $\\times$ $93$ input features + $1$ bias per node $\\times$ $9$ = $846$"
   ]
  },
  {
   "cell_type": "markdown",
   "metadata": {},
   "source": [
    "### 2. Cross Validation\n",
    "\n",
    "Splitting the training data into training (85%) and test (15%) using the <b>train_test_split</b> method of the sklearn.model_selection module."
   ]
  },
  {
   "cell_type": "code",
   "execution_count": 2,
   "metadata": {},
   "outputs": [],
   "source": [
    "# Sklearn model seclection module \"train_test_split\" allow us to easily split the data in train/validation sets\n",
    "from sklearn.model_selection import train_test_split"
   ]
  },
  {
   "cell_type": "code",
   "execution_count": 3,
   "metadata": {},
   "outputs": [],
   "source": [
    "X_train, X_val, Y_train, Y_val = train_test_split(X_train, Y_train,\n",
    "                                                  test_size=0.15, random_state=42)"
   ]
  },
  {
   "cell_type": "code",
   "execution_count": 4,
   "metadata": {},
   "outputs": [
    {
     "name": "stdout",
     "output_type": "stream",
     "text": [
      "Nbr of samples in training: 52596\n",
      "Nbr of sample in test: 9282\n"
     ]
    }
   ],
   "source": [
    "print('Nbr of samples in training:',X_train.shape[0])\n",
    "print('Nbr of sample in test:',X_val.shape[0])"
   ]
  },
  {
   "cell_type": "markdown",
   "metadata": {},
   "source": [
    "### 3. Adding a batch size"
   ]
  },
  {
   "cell_type": "markdown",
   "metadata": {},
   "source": [
    "In the fit method of the model we can now pass both training / test data.<br>\n",
    "The <b>batch size</b> is set to 128. This means that the weights are only changed after processing 128 items in the list.<br>\n",
    "The <b>epoch</b> is set to 5, which means that the whole data-set passes 5 times through the backpropagation."
   ]
  },
  {
   "cell_type": "code",
   "execution_count": 5,
   "metadata": {},
   "outputs": [
    {
     "name": "stdout",
     "output_type": "stream",
     "text": [
      "Train on 52596 samples, validate on 9282 samples\n",
      "Epoch 1/5\n",
      "52596/52596 [==============================] - 1s 10us/sample - loss: 1.8746 - val_loss: 1.8559\n",
      "Epoch 2/5\n",
      "52596/52596 [==============================] - 0s 8us/sample - loss: 1.8523 - val_loss: 1.8359\n",
      "Epoch 3/5\n",
      "52596/52596 [==============================] - 1s 10us/sample - loss: 1.8345 - val_loss: 1.8196\n",
      "Epoch 4/5\n",
      "52596/52596 [==============================] - 0s 9us/sample - loss: 1.8195 - val_loss: 1.8058\n",
      "Epoch 5/5\n",
      "52596/52596 [==============================] - 0s 8us/sample - loss: 1.8066 - val_loss: 1.7937\n"
     ]
    }
   ],
   "source": [
    "model.fit(X_train, Y_train, \n",
    "          validation_data = (X_val, Y_val),\n",
    "          epochs=5,verbose=True,batch_size=128 );"
   ]
  },
  {
   "cell_type": "markdown",
   "metadata": {},
   "source": [
    "There are now two loss items:\n",
    "\n",
    "* _loss_\n",
    "* _val-loss_"
   ]
  },
  {
   "cell_type": "markdown",
   "metadata": {},
   "source": [
    "<h3>4. Setting Initial Weights</h3>\n",
    "<br>\n",
    "We are in full control over the construction of the network. The initialisation of the weights (setting them to zero in this case) is an example of this."
   ]
  },
  {
   "cell_type": "code",
   "execution_count": 6,
   "metadata": {},
   "outputs": [],
   "source": [
    "from tensorflow.keras import initializers\n",
    "\n",
    "model_zero = Sequential()\n",
    "model_zero.add(Dense(nb_classes, input_shape=(dims[1],), \n",
    "                     kernel_initializer=initializers.zeros(), \n",
    "                     activation='sigmoid'))\n",
    "model_zero.add(Activation('softmax'))\n",
    "model_zero.compile(optimizer='sgd', loss='categorical_crossentropy')"
   ]
  },
  {
   "cell_type": "code",
   "execution_count": 7,
   "metadata": {},
   "outputs": [
    {
     "name": "stdout",
     "output_type": "stream",
     "text": [
      "Train on 52596 samples, validate on 9282 samples\n",
      "Epoch 1/5\n",
      "52596/52596 [==============================] - 1s 10us/sample - loss: 2.0800 - val_loss: 1.9989\n",
      "Epoch 2/5\n",
      "52596/52596 [==============================] - 0s 9us/sample - loss: 1.9617 - val_loss: 1.9248\n",
      "Epoch 3/5\n",
      "52596/52596 [==============================] - 1s 11us/sample - loss: 1.9068 - val_loss: 1.8830\n",
      "Epoch 4/5\n",
      "52596/52596 [==============================] - 0s 9us/sample - loss: 1.8725 - val_loss: 1.8544\n",
      "Epoch 5/5\n",
      "52596/52596 [==============================] - 1s 11us/sample - loss: 1.8478 - val_loss: 1.8328\n"
     ]
    }
   ],
   "source": [
    "model_zero.fit(X_train, Y_train, \n",
    "          validation_data = (X_val, Y_val),\n",
    "          epochs=5,verbose=True,batch_size=128) ;"
   ]
  },
  {
   "cell_type": "markdown",
   "metadata": {},
   "source": [
    "### 5. Setting constraints on the weights"
   ]
  },
  {
   "cell_type": "code",
   "execution_count": 13,
   "metadata": {},
   "outputs": [],
   "source": [
    "# Import the constraint module\n",
    "from tensorflow.keras.constraints import MaxNorm"
   ]
  },
  {
   "cell_type": "code",
   "execution_count": 14,
   "metadata": {},
   "outputs": [],
   "source": [
    "model_zero = Sequential()\n",
    "model_zero.add(Dense(nb_classes, input_shape=(dims[1],), \n",
    "                     kernel_initializer=initializers.zeros(), \n",
    "                     activation='sigmoid'))\n",
    "model_zero.add(Activation('softmax'))\n",
    "model_zero.compile(optimizer='sgd', loss='categorical_crossentropy')"
   ]
  },
  {
   "cell_type": "markdown",
   "metadata": {},
   "source": [
    "### 6. Adding Callback Functions\n",
    "Adding callback function "
   ]
  },
  {
   "cell_type": "code",
   "execution_count": 15,
   "metadata": {},
   "outputs": [],
   "source": [
    "from tensorflow.keras.callbacks import EarlyStopping, ModelCheckpoint"
   ]
  },
  {
   "cell_type": "markdown",
   "metadata": {},
   "source": [
    "#### 6.1 Callback: Early Stopping<br>\n",
    "This is call back function that is such that the model stops improving as soon\n",
    "as two consecutive times, the loss function (=val loss) has not improved or stayed the same. Two parameters are defined with the model:\n",
    "<ul>\n",
    "<li>patience: number of epochs with no improvement after which training will be stopped.\n",
    "<li>monitor:monitor: quantity to be monitored.\n",
    "    </ul>"
   ]
  },
  {
   "cell_type": "code",
   "execution_count": 16,
   "metadata": {},
   "outputs": [],
   "source": [
    "# Import the call back\n",
    "from tensorflow.keras.callbacks import EarlyStopping\n",
    "\n",
    "# Declare the callback\n",
    "early_stop = EarlyStopping(monitor='val_loss', patience=2, verbose=1)"
   ]
  },
  {
   "cell_type": "markdown",
   "metadata": {},
   "source": [
    "#### Callback: Model Checkpoints\n",
    "The intermediate networks (with temporary weights) are stored on the filepath (fBestModel) in a hdf5 format\n",
    "it is then afterwards possible to load models from this"
   ]
  },
  {
   "cell_type": "code",
   "execution_count": 17,
   "metadata": {},
   "outputs": [],
   "source": [
    "# Import the call back\n",
    "from tensorflow.keras.callbacks import ModelCheckpoint\n",
    "\n",
    "# Declare the callback\n",
    "fBestModel = './models/weights.{epoch:02d}-{val_loss:.2f}.hdf5' \n",
    "best_model = ModelCheckpoint(fBestModel, verbose=0, save_best_only=True)"
   ]
  },
  {
   "cell_type": "markdown",
   "metadata": {},
   "source": [
    "#### Add the callback functions to the fit method"
   ]
  },
  {
   "cell_type": "code",
   "execution_count": 19,
   "metadata": {},
   "outputs": [
    {
     "name": "stdout",
     "output_type": "stream",
     "text": [
      "Train on 52596 samples, validate on 9282 samples\n",
      "Epoch 1/15\n",
      "52596/52596 [==============================] - 1s 10us/sample - loss: 1.7240 - val_loss: 1.7152\n",
      "Epoch 2/15\n",
      "52596/52596 [==============================] - 1s 11us/sample - loss: 1.7193 - val_loss: 1.7107\n",
      "Epoch 3/15\n",
      "52596/52596 [==============================] - 1s 11us/sample - loss: 1.7149 - val_loss: 1.7065\n",
      "Epoch 4/15\n",
      "52596/52596 [==============================] - 1s 10us/sample - loss: 1.7108 - val_loss: 1.7025\n",
      "Epoch 5/15\n",
      "52596/52596 [==============================] - 1s 11us/sample - loss: 1.7068 - val_loss: 1.6986\n",
      "Epoch 6/15\n",
      "52596/52596 [==============================] - 1s 10us/sample - loss: 1.7031 - val_loss: 1.6950\n",
      "Epoch 7/15\n",
      "52596/52596 [==============================] - 1s 10us/sample - loss: 1.6995 - val_loss: 1.6916\n",
      "Epoch 8/15\n",
      "52596/52596 [==============================] - 1s 11us/sample - loss: 1.6962 - val_loss: 1.6883\n",
      "Epoch 9/15\n",
      "52596/52596 [==============================] - 1s 10us/sample - loss: 1.6929 - val_loss: 1.6851\n",
      "Epoch 10/15\n",
      "52596/52596 [==============================] - 0s 9us/sample - loss: 1.6899 - val_loss: 1.6821\n",
      "Epoch 11/15\n",
      "52596/52596 [==============================] - 1s 11us/sample - loss: 1.6869 - val_loss: 1.6793\n",
      "Epoch 12/15\n",
      "52596/52596 [==============================] - 1s 10us/sample - loss: 1.6841 - val_loss: 1.6766\n",
      "Epoch 13/15\n",
      "52596/52596 [==============================] - 1s 10us/sample - loss: 1.6815 - val_loss: 1.6739\n",
      "Epoch 14/15\n",
      "52596/52596 [==============================] - 1s 11us/sample - loss: 1.6789 - val_loss: 1.6714\n",
      "Epoch 15/15\n",
      "52596/52596 [==============================] - 1s 10us/sample - loss: 1.6764 - val_loss: 1.6690\n"
     ]
    }
   ],
   "source": [
    "model.fit(X_train, Y_train, validation_data = (X_val, Y_val), \n",
    "          epochs=15, \n",
    "          batch_size=128, verbose=True, \n",
    "          callbacks=[best_model, early_stop]);"
   ]
  },
  {
   "cell_type": "markdown",
   "metadata": {},
   "source": [
    "## How do we get the callback functions in the black box"
   ]
  },
  {
   "cell_type": "markdown",
   "metadata": {},
   "source": [
    "<h3>7. Evolution of the loss </h3><br>\n",
    "The evoluation of the history of the network can be plotted (after defining the appropriate plotfunction)"
   ]
  },
  {
   "cell_type": "code",
   "execution_count": 20,
   "metadata": {},
   "outputs": [],
   "source": [
    "# Auxiliary function to plot the loss from the history\n",
    "def plot_history(network_history):\n",
    "    plt.figure(figsize=(8,8))\n",
    "    plt.xlabel('Epochs')\n",
    "    plt.ylabel('Loss')\n",
    "    # Both losses are stored as a dictionary in \".history\"\n",
    "    plt.plot(network_history.history['loss'])\n",
    "    plt.plot(network_history.history['val_loss'])\n",
    "    plt.legend(['Training', 'Validation'])"
   ]
  },
  {
   "cell_type": "markdown",
   "metadata": {},
   "source": [
    "Since we are running 50 Epochs with batch-sizes of 128, we are going to supress the output of the model on the screen.\n",
    "But we will make use of the plot function afterwards."
   ]
  },
  {
   "cell_type": "code",
   "execution_count": 21,
   "metadata": {},
   "outputs": [],
   "source": [
    "history = model.fit(X_train, Y_train, \n",
    "                    validation_data = (X_val, Y_val), \n",
    "                    epochs=150,batch_size=1000,\n",
    "                    callbacks=[best_model, early_stop],\n",
    "                    verbose=False);"
   ]
  },
  {
   "cell_type": "code",
   "execution_count": 22,
   "metadata": {},
   "outputs": [
    {
     "data": {
      "image/png": "[encoded data removed]",
      "text/plain": [
       "<Figure size 576x576 with 1 Axes>"
      ]
     },
     "metadata": {
      "needs_background": "light"
     },
     "output_type": "display_data"
    }
   ],
   "source": [
    "plot_history(history)"
   ]
  },
  {
   "cell_type": "markdown",
   "metadata": {},
   "source": [
    "<h3>8. Adding a dropout layer</h3>\n",
    "\n",
    "Introduced in 2014 by Srivastava, et al. in their 2014 paper _Dropout: A Simple Way to Prevent Neural Networks from Overfitting_\n",
    "\n",
    "Dropout is a technique where randomly selected neurons are ignored during training. They are removed or \"dropped-out\" at random. \n",
    "\n",
    "Dropout is  implemented by randomly selecting nodes to be dropped-out with a given probability (e.g 15%) each weight update cycle (=epoch). Note that dropout is only used during the training of a model and is not used when making predictions with the model.\n",
    "\n",
    "#### In this example we set a drop layer of 20% just before the first hidden layer. This means that in each feedforward / backpropogation run 20% of the 93 nodes are going to be ignored. "
   ]
  },
  {
   "cell_type": "code",
   "execution_count": 23,
   "metadata": {},
   "outputs": [],
   "source": [
    "from tensorflow.keras.layers import Dropout\n",
    "model_drop = Sequential()\n",
    "model_drop.add(Dropout(0.2, input_shape=(dims[1],)))\n",
    "model_drop.add(Dense(nb_classes, activation='sigmoid'))\n",
    "model_drop.add(Activation('softmax'))\n",
    "model_drop.compile(optimizer='sgd', loss='categorical_crossentropy')"
   ]
  },
  {
   "cell_type": "code",
   "execution_count": 24,
   "metadata": {},
   "outputs": [
    {
     "name": "stdout",
     "output_type": "stream",
     "text": [
      "Train on 52596 samples, validate on 9282 samples\n",
      "Epoch 1/5\n",
      "52596/52596 [==============================] - 1s 14us/sample - loss: 2.1731 - val_loss: 2.0844\n",
      "Epoch 2/5\n",
      "52596/52596 [==============================] - 1s 10us/sample - loss: 2.0466 - val_loss: 1.9933\n",
      "Epoch 3/5\n",
      "52596/52596 [==============================] - 1s 10us/sample - loss: 1.9804 - val_loss: 1.9413\n",
      "Epoch 4/5\n",
      "52596/52596 [==============================] - 1s 10us/sample - loss: 1.9392 - val_loss: 1.9063\n",
      "Epoch 5/5\n",
      "52596/52596 [==============================] - 1s 11us/sample - loss: 1.9095 - val_loss: 1.8806\n"
     ]
    }
   ],
   "source": [
    "model_drop.fit(X_train, Y_train, \n",
    "          validation_data = (X_val, Y_val),\n",
    "          epochs=5,verbose=True,batch_size=128);"
   ]
  },
  {
   "cell_type": "code",
   "execution_count": null,
   "metadata": {},
   "outputs": [],
   "source": []
  }
 ],
 "metadata": {
  "kernelspec": {
   "display_name": "Python 3",
   "language": "python",
   "name": "python3"
  },
  "language_info": {
   "codemirror_mode": {
    "name": "ipython",
    "version": 3
   },
   "file_extension": ".py",
   "mimetype": "text/x-python",
   "name": "python",
   "nbconvert_exporter": "python",
   "pygments_lexer": "ipython3",
   "version": "3.7.4"
  },
  "toc": {
   "base_numbering": 1,
   "nav_menu": {},
   "number_sections": true,
   "sideBar": true,
   "skip_h1_title": false,
   "title_cell": "Table of Contents",
   "title_sidebar": "Contents",
   "toc_cell": false,
   "toc_position": {},
   "toc_section_display": true,
   "toc_window_display": false
  },
  "varInspector": {
   "cols": {
    "lenName": 16,
    "lenType": 16,
    "lenVar": 40
   },
   "kernels_config": {
    "python": {
     "delete_cmd_postfix": "",
     "delete_cmd_prefix": "del ",
     "library": "var_list.py",
     "varRefreshCmd": "print(var_dic_list())"
    },
    "r": {
     "delete_cmd_postfix": ") ",
     "delete_cmd_prefix": "rm(",
     "library": "var_list.r",
     "varRefreshCmd": "cat(var_dic_list()) "
    }
   },
   "types_to_exclude": [
    "module",
    "function",
    "builtin_function_or_method",
    "instance",
    "_Feature"
   ],
   "window_display": false
  }
 },
 "nbformat": 4,
 "nbformat_minor": 2
}
