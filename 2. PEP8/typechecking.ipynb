{
 "cells": [
  {
   "cell_type": "markdown",
   "id": "d3295fc5-f09d-4bcf-a1a3-77c20bf83f9a",
   "metadata": {},
   "source": [
    "# Type hinting\n",
    "Type hinting was introduced in Python 3.5 to solve certain issues related to dynamically typed languages. The goal of this notebook is to show an application of typehinting, including the value of type hinting in practice."
   ]
  },
  {
   "cell_type": "markdown",
   "id": "ca3efd9c-cb7d-4629-a567-3ad1902b1243",
   "metadata": {},
   "source": [
    "## Without type hints\n",
    "What is the output of the following code?"
   ]
  },
  {
   "cell_type": "code",
   "execution_count": 1,
   "id": "7afd1c5a-a1f9-4f96-86a8-a8a98ec1dedf",
   "metadata": {},
   "outputs": [],
   "source": [
    "import pandas as pd\n",
    "\n",
    "information = {\"Name\": ['Joe', 'Karen', 'Philip', 'Joseph', 'André'],\n",
    "               \"Age\": [17, 25, 20, None, 20]\n",
    "              }\n",
    "people = pd.DataFrame(information)\n",
    "\n",
    "def drop_people_without_age(data: pd.DataFrame) -> pd.DataFrame:\n",
    "    return data.dropna(subset=['Age'], inplace=True)\n",
    "\n",
    "people_with_age = drop_people_without_age(people)\n",
    "#names = people_with_age.Name"
   ]
  },
  {
   "cell_type": "markdown",
   "id": "c885abca-c210-412b-af28-f549a63fcb8f",
   "metadata": {},
   "source": [
    "### Adding type hints\n",
    "What will now be the output? Do we expect something to be different?"
   ]
  },
  {
   "cell_type": "code",
   "execution_count": 2,
   "id": "daf1716e-7817-414a-8df5-1e3135277623",
   "metadata": {},
   "outputs": [],
   "source": [
    "import pandas as pd\n",
    "\n",
    "people = pd.DataFrame(information)\n",
    "\n",
    "def drop_people_without_age_hinted(data: pd.DataFrame) -> pd.DataFrame:\n",
    "    return data.dropna(subset=['Age'], inplace=True)\n",
    "\n",
    "people_with_age: pd.DataFrame = drop_people_without_age_hinted(people)\n",
    "#names: pd.Series = people_with_age.Name"
   ]
  },
  {
   "cell_type": "markdown",
   "id": "f5855286-5ab6-4360-b6b4-637afb33ff69",
   "metadata": {},
   "source": [
    "As you can see above, type hinting did not change anything during the execution of the code. It did not fix the code, nor did it provide a more informative warning message to the developer. This is because type hinting is not the same as type checking. Below, some alternative solutions have been implemented."
   ]
  },
  {
   "cell_type": "code",
   "execution_count": 3,
   "id": "701ba0ec-a333-48e2-9a07-88efe2a9f086",
   "metadata": {},
   "outputs": [
    {
     "name": "stdout",
     "output_type": "stream",
     "text": [
      "typechecking.ipynb:cell_1:6: \u001b[1m\u001b[31merror:\u001b[m Argument 1 to \u001b[m\u001b[1m\"DataFrame\"\u001b[m has incompatible type \u001b[m\u001b[1m\"Dict[str, object]\"\u001b[m; expected \u001b[m\u001b[1m\"Union[Series[Any], Index[Any], ndarray[Any], Sequence[Any], DataFrame, Dict[str, Union[Series[Any], Index[Any], ndarray[Any], Sequence[Any]]], None]\"\u001b[m\u001b[m\n",
      "typechecking.ipynb:cell_1:9: \u001b[1m\u001b[31merror:\u001b[m Incompatible return value type (got \u001b[m\u001b[1m\"None\"\u001b[m, expected \u001b[m\u001b[1m\"DataFrame\"\u001b[m)\u001b[m\n",
      "typechecking.ipynb:cell_2:3: \u001b[1m\u001b[31merror:\u001b[m Argument 1 to \u001b[m\u001b[1m\"DataFrame\"\u001b[m has incompatible type \u001b[m\u001b[1m\"Dict[str, object]\"\u001b[m; expected \u001b[m\u001b[1m\"Union[Series[Any], Index[Any], ndarray[Any], Sequence[Any], DataFrame, Dict[str, Union[Series[Any], Index[Any], ndarray[Any], Sequence[Any]]], None]\"\u001b[m\u001b[m\n",
      "typechecking.ipynb:cell_2:6: \u001b[1m\u001b[31merror:\u001b[m Incompatible return value type (got \u001b[m\u001b[1m\"None\"\u001b[m, expected \u001b[m\u001b[1m\"DataFrame\"\u001b[m)\u001b[m\n",
      "typechecking.ipynb:cell_2:8: \u001b[1m\u001b[31merror:\u001b[m Name \u001b[m\u001b[1m\"people_with_age\"\u001b[m already defined on line 12\u001b[m\n",
      "typechecking.ipynb:cell_6:5: \u001b[1m\u001b[31merror:\u001b[m Name \u001b[m\u001b[1m\"people_with_age\"\u001b[m already defined on line 12\u001b[m\n",
      "\u001b[1m\u001b[31mFound 6 errors in 1 file (checked 1 source file)\u001b[m\n"
     ]
    }
   ],
   "source": [
    "#!pip install mypy\n",
    "#!pip install data-science-types\n",
    "#!pip install nbqa\n",
    "!python3 -m nbqa mypy typechecking.ipynb --ignore-missing-imports"
   ]
  },
  {
   "cell_type": "code",
   "execution_count": 4,
   "id": "a0e761bd-1b28-4b75-a212-6dd47575423f",
   "metadata": {},
   "outputs": [
    {
     "data": {
      "text/plain": [
       "{'data': pandas.core.frame.DataFrame, 'return': pandas.core.frame.DataFrame}"
      ]
     },
     "execution_count": 4,
     "metadata": {},
     "output_type": "execute_result"
    }
   ],
   "source": [
    "drop_people_without_age_hinted.__annotations__"
   ]
  },
  {
   "cell_type": "code",
   "execution_count": 5,
   "id": "e04b6819-594d-4dad-92f8-7a0422a28c65",
   "metadata": {},
   "outputs": [],
   "source": [
    "#!pip install strongtyping\n",
    "# PROBLEM: does not check output types\n",
    "from strongtyping.strong_typing import match_typing"
   ]
  },
  {
   "cell_type": "code",
   "execution_count": 6,
   "id": "464148d1-61b1-49ba-8d85-c6680d582fe6",
   "metadata": {},
   "outputs": [
    {
     "name": "stdout",
     "output_type": "stream",
     "text": [
      "Incorrect parameter: [data] `'Test'`\n",
      "\trequired: <class 'pandas.core.frame.DataFrame'>\n"
     ]
    },
    {
     "ename": "TypeMisMatch",
     "evalue": "",
     "output_type": "error",
     "traceback": [
      "\u001b[0;31m---------------------------------------------------------------------------\u001b[0m",
      "\u001b[0;31mTypeMisMatch\u001b[0m                              Traceback (most recent call last)",
      "\u001b[0;32m/tmp/ipykernel_92295/1037883946.py\u001b[0m in \u001b[0;36m<module>\u001b[0;34m\u001b[0m\n\u001b[1;32m      3\u001b[0m     \u001b[0;32mreturn\u001b[0m \u001b[0mdata\u001b[0m\u001b[0;34m.\u001b[0m\u001b[0mdropna\u001b[0m\u001b[0;34m(\u001b[0m\u001b[0msubset\u001b[0m\u001b[0;34m=\u001b[0m\u001b[0;34m[\u001b[0m\u001b[0;34m'Age'\u001b[0m\u001b[0;34m]\u001b[0m\u001b[0;34m)\u001b[0m\u001b[0;34m\u001b[0m\u001b[0;34m\u001b[0m\u001b[0m\n\u001b[1;32m      4\u001b[0m \u001b[0;34m\u001b[0m\u001b[0m\n\u001b[0;32m----> 5\u001b[0;31m \u001b[0mpeople_with_age\u001b[0m\u001b[0;34m:\u001b[0m \u001b[0mpd\u001b[0m\u001b[0;34m.\u001b[0m\u001b[0mDataFrame\u001b[0m \u001b[0;34m=\u001b[0m \u001b[0mdrop_people_without_age_typed\u001b[0m\u001b[0;34m(\u001b[0m\u001b[0;34m'Test'\u001b[0m\u001b[0;34m)\u001b[0m\u001b[0;34m\u001b[0m\u001b[0;34m\u001b[0m\u001b[0m\n\u001b[0m",
      "\u001b[0;32m~/.local/lib/python3.8/site-packages/strongtyping/strong_typing.py\u001b[0m in \u001b[0;36minner\u001b[0;34m(*args, **kwargs)\u001b[0m\n\u001b[1;32m     83\u001b[0m \u001b[0;34m\u001b[0m\u001b[0m\n\u001b[1;32m     84\u001b[0m                     \u001b[0;32mif\u001b[0m \u001b[0mexcep_raise\u001b[0m \u001b[0;32mis\u001b[0m \u001b[0;32mnot\u001b[0m \u001b[0;32mNone\u001b[0m \u001b[0;32mand\u001b[0m \u001b[0mseverity_level\u001b[0m \u001b[0;34m==\u001b[0m \u001b[0mSEVERITY_LEVEL\u001b[0m\u001b[0;34m.\u001b[0m\u001b[0mENABLED\u001b[0m\u001b[0;34m.\u001b[0m\u001b[0mvalue\u001b[0m\u001b[0;34m:\u001b[0m\u001b[0;34m\u001b[0m\u001b[0;34m\u001b[0m\u001b[0m\n\u001b[0;32m---> 85\u001b[0;31m                         \u001b[0;32mraise\u001b[0m \u001b[0mexcep_raise\u001b[0m\u001b[0;34m(\u001b[0m\u001b[0mmsg\u001b[0m\u001b[0;34m)\u001b[0m \u001b[0;32mfrom\u001b[0m \u001b[0;32mNone\u001b[0m\u001b[0;34m\u001b[0m\u001b[0;34m\u001b[0m\u001b[0m\n\u001b[0m\u001b[1;32m     86\u001b[0m                     \u001b[0;32melse\u001b[0m\u001b[0;34m:\u001b[0m\u001b[0;34m\u001b[0m\u001b[0;34m\u001b[0m\u001b[0m\n\u001b[1;32m     87\u001b[0m                         \u001b[0mwarnings\u001b[0m\u001b[0;34m.\u001b[0m\u001b[0mwarn\u001b[0m\u001b[0;34m(\u001b[0m\u001b[0mmsg\u001b[0m\u001b[0;34m,\u001b[0m \u001b[0mRuntimeWarning\u001b[0m\u001b[0;34m)\u001b[0m\u001b[0;34m\u001b[0m\u001b[0;34m\u001b[0m\u001b[0m\n",
      "\u001b[0;31mTypeMisMatch\u001b[0m: "
     ]
    }
   ],
   "source": [
    "@match_typing\n",
    "def drop_people_without_age_typed(data: pd.DataFrame) -> pd.DataFrame:\n",
    "    return data.dropna(subset=['Age'])\n",
    "\n",
    "people_with_age: pd.DataFrame = drop_people_without_age_typed('Test')"
   ]
  }
 ],
 "metadata": {
  "kernelspec": {
   "display_name": "Python 3 (ipykernel)",
   "language": "python",
   "name": "python3"
  },
  "language_info": {
   "codemirror_mode": {
    "name": "ipython",
    "version": 3
   },
   "file_extension": ".py",
   "mimetype": "text/x-python",
   "name": "python",
   "nbconvert_exporter": "python",
   "pygments_lexer": "ipython3",
   "version": "3.8.12"
  }
 },
 "nbformat": 4,
 "nbformat_minor": 5
}
